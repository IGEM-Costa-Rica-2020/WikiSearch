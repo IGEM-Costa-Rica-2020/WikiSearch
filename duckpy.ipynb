{
 "cells": [
  {
   "cell_type": "code",
   "execution_count": 11,
   "metadata": {},
   "outputs": [
    {
     "name": "stdout",
     "output_type": "stream",
     "text": [
      "CTespressso. Great Coffee - Orders Over $50 Ship Free!\n",
      "https://duckduckgo.com/y.js?u3=https%3A%2F%2Fwww.bing.com%2Faclick%3Fld%3De33%2D2YudjdKMCy6%2DZpYR0mhTVUCUwJRLI3XHiILpdIr_AM6oH3wk%2DbYkQfX8rocDJZCK7ZpG08KBP16TqyW253jJmiRcJu6BW9ctzTJ%2DznqPSl7%2D2Xy1Rsh%2DGNxvl0wQ4loVTEm648h4Vd3a2QpYK0XpFuUwE%26u%3DaHR0cHMlM2ElMmYlMmZjdGVzcHJlc3NvLmNvbSUzZm1zY2xraWQlM2Q1MTYzOTJmN2YxZDExOWM2YzZlNmNjN2QzYjVhNmQ2ZA%26rlid%3D516392f7f1d119c6c6e6cc7d3b5a6d6d&ad_provider=bingv7aa&vqd=3-135252877511329377134662704856424584392-300209439192151037740457066924729782084\n",
      "Best Coffee for Best Prices. Enjoy Now.\n"
     ]
    }
   ],
   "source": [
    "from duckpy import Client\n",
    "\n",
    "client = Client()\n",
    "\n",
    "results = client.search(\"Coffee site:2019.igem.org\")\n",
    "\n",
    "# Prints first result title\n",
    "print(results[0][\"title\"])\n",
    "\n",
    "# Prints first result URL\n",
    "print(results[0][\"url\"])\n",
    "\n",
    "# Prints first result description\n",
    "print(results[0][\"description\"])\n"
   ]
  },
  {
   "cell_type": "code",
   "execution_count": 12,
   "metadata": {},
   "outputs": [
    {
     "data": {
      "text/plain": [
       "{'title': 'CTespressso. Great Coffee - Orders Over $50 Ship Free!',\n",
       " 'description': 'Best Coffee for Best Prices. Enjoy Now.',\n",
       " 'url': 'https://duckduckgo.com/y.js?u3=https%3A%2F%2Fwww.bing.com%2Faclick%3Fld%3De33%2D2YudjdKMCy6%2DZpYR0mhTVUCUwJRLI3XHiILpdIr_AM6oH3wk%2DbYkQfX8rocDJZCK7ZpG08KBP16TqyW253jJmiRcJu6BW9ctzTJ%2DznqPSl7%2D2Xy1Rsh%2DGNxvl0wQ4loVTEm648h4Vd3a2QpYK0XpFuUwE%26u%3DaHR0cHMlM2ElMmYlMmZjdGVzcHJlc3NvLmNvbSUzZm1zY2xraWQlM2Q1MTYzOTJmN2YxZDExOWM2YzZlNmNjN2QzYjVhNmQ2ZA%26rlid%3D516392f7f1d119c6c6e6cc7d3b5a6d6d&ad_provider=bingv7aa&vqd=3-135252877511329377134662704856424584392-300209439192151037740457066924729782084'}"
      ]
     },
     "execution_count": 12,
     "metadata": {},
     "output_type": "execute_result"
    }
   ],
   "source": [
    "results[0]"
   ]
  },
  {
   "cell_type": "code",
   "execution_count": 14,
   "metadata": {},
   "outputs": [
    {
     "name": "stdout",
     "output_type": "stream",
     "text": [
      "Best Coffee for Best Prices. Enjoy Now.\n",
      "Coffee for Nespresso® and Keurig®, whole bean and ground packs. Free shipping!\n",
      "Honestly,I have to admit that introduce myself is a real headache.I hope to tell you in an interesting way,like I'm a optimistic person by nature.So I just wonder if it will be easier to introduce someone just like order a cup of coffee:large,no sugar and with a splash of non-fat milk,and I'm a person:outgoing,sincere and with a spirit of ...\n",
      "Kathy Mu. Study: Bachelors in Biology Curricular activities: Anything food related, exploring new places, visiting dog parks Why you joined iGEM: I never knew I'd someday end up in a lab because I always detested lab work and anything research related; I even promised myself I'd never end up in research! But everything turned upside down once I enrolled into a 6-credit undergraduate ...\n",
      "As our project is about degrading plastic, we chose, among other things, a plastic-prevention-kit containing a coffee cup to go and stainless steel drinking straws for example. Your rewards should meet various demands: Useful, cute, non-material, project-specific and personal rewards are very popular.\n",
      "With a reusable coffee cup in hand, she's always wondering how not to puncture gloves with her nails and how to convince people she's slept for more than two hours. Albeit patience not being her strongest virtue, she overcompensates this with hard work and everpresent optimism.\n",
      "The highlight for younger school children was our \"Coffee filter experiment\" in which participants could make the concept of chromatography visible on coffee filters using felt tip pens. The day gave us a first idea on how our project is perceived by the public and how to present it to different audiences. Fruitful discussions with fellow ...\n",
      "Reusable coffee mug Tupper tin at the butcher/baker/cheese counter Aachen-Unverpackt-Laden washing bag code check app Pay attention to the make of clothing → I didn't know the following of the above mentioned things yet, but I would use them if necessary: Jute bag Reusable coffee mug Tupper tin at the butcher/baker/cheese counter Aachen ...\n",
      "One of Mary Williams' lessons about communication between science and public was that people are overwhelmed by the amount of information, which can often be contradictory: One article tells you coffee is healthy, while the other one states that coffee is harmful.\n",
      "An interactive workshop, organized as part of the Art Exhibition, where participants would extract DNA from strawberries with everyday items such as dish soap, salt, rubbing alcohol, plastic bags, coffee filter, and toothpicks. When done, the visitors could keep their extracted DNA in an Eppendorf tube!\n",
      "The CRISPR guy and a believer of the Darwinian Theory. Cricket is his second love and Kantian ethics his \"go to\" mantra. His primary interest lies in understanding the hormonal regulation of human emotions. If you are interested in philosophy then do join him over a cup of coffee \"Just sitting and chilling here with my friends\"\n",
      "Last minute experiments, long nights of write up and endless coffee to keep us going. The team have been busy working on the wiki and finalising all content. A group trip to the library on Saturday was very productive and lots of boxes were ticked. All the stress and sleepless nights will pay off - not long to go now!\n",
      "At ASIJ's annual Back to School night, we gave a presentation on synthetic biology and our iGEM project to parents. This was another useful round of practicing presenting our project as well as communicating with the general public on the ethics behind genetic engineering.\n",
      "iGEM made me a Master of Closely regulating the intervals between my consumption of coffee cups. Yes, I do actually eat the cups. Yes, I do actually eat the cups. Fun Fact about me : I can't handle music that is in Greek.\n",
      "Fun fact: I like to read, I love dark coffee, and I love the moon and stars. Nicole M. Zaragoza Rodríguez. Biology Team Member. She is a senior from Sabana Grande, Puerto Rico, majoring in Biology with a special interest in Biochemistry. Since her freshman year she has enjoyed taking part in community outreach activities as a member of student ...\n",
      "Professor Liz Sockett is a microbiologist at the University of Nottingham who recently became a fellow of the Royal Society. She invited the iGEM team for a coffee break, over which we discussed our project. She suggested that we create an acetone kill curve for Clostridium sporogenes to see how much acetone it can withstand.\n",
      "Powered by coffee and with the help of a human network bigger than a termite's, she's great at coordinating the team's efforts and finding solutions to keep our project going. She suffers from a rare condition called Physicophilia, meaning despite being an ace in biology, she's fascinated by everything involving physics with severe ...\n",
      "Since November 2018, we started meeting up at someone's house or in a coffee shop. We started by defining the areas we were interested in. We did a brainstorming on problems that we could addressed with Synthetic Biology and we came up with the topic of antibiotic resistance.\n",
      "To lend our support to Nietorp, we decided to use our own eco cups to drink our coffee instead of using plastic cups. This way, we can reduce plastic waste which is nowadays a big threat for the planet and particularly the ocean. We then sent Nietorp to Montpellier to pursue its mission (and take a sun bath).\n",
      "Fun Facts: Mini coffee addict, Marvel, Harry Potter and Star Wars lover, fake redhead. Quote: \"Great service, 5 stars.\" María Gabriela Hernández Biotechnology Engineering\n",
      "No one can say no to coffee and games, and so do someone may love biology. We're sure such activities can enable more people to contribute and participate in synthetic biology. Our works are bitter like coffee, but the rewards are pleasant like board games.\n",
      "What do you call a sad cup of coffee? - Depresso. Evelyn Schläfke. Biology (B. Sc.) 4. semester. Hakuna Matata!!! Felix Pfister. Integrated Immunology (M. Sc.) 2. semester \"Science is a wonderful thing if one does not have to earn one's living at it. \" - Albert Einstein. Franziska Brodwolf.\n",
      "Together we made a plan and specified who was responsible for contacting companies, ordering fika (Swedish version of coffee and pastries), marketing the event and securing a location for it. Together we made the conference a reality! Crayfish Party . In Sweden there is a long and storied tradition of holding a crayfish party every August. ...\n",
      "I love visiting little coffee shops that specialize in craft coffee and I'm very passionate about good coffee. Whenever I have been properly caffeinated, I read fiction books, play classical piano, do jigsaw puzzles, and run (away from my responsibilities).\n",
      "Detection of X. fastidiosa in coffee leaves . First, we determined the functionality of the LAMP primers derived from literature to the detection of X. fastidiosa in coffee leaves. This experiment was performed at the NVWA, who provided us access to their X. fastidiosa infected coffeeplants, amongst which a naturally infected plant that was ...\n",
      "- 7 members of our team used and will unse reusable coffee cups (1400 takeaway cups saved/ last year) - 5 members ride a bike instead of car (25000 km per year free of exhaust) - 9 teammates cooked vegan food together\n",
      "Coffee time is the best time. - What do you like about iGEM? Developing novel scientific ideas from scratch and having to go through each and every process of project development shapes young scientists tremendously - this opportunity in the frame work of the iGEM competition makes it an unique experience for everyone involved.\n",
      "Over subsequent weeks and innumerable rounds of coffee, some very interesting ideas began to emerge. During these sessions, we came across a particularly interesting proposition - the stable expression of psychrophilic recombinant proteins under sub-optimal conditions. While this was something almost none of us had any prior knowledge about, we ...\n",
      "Secretary. Daan van Tol is in his third year of the bachelor Biology, during which he alternates between courses focused on the molecular field and ecology and biodiversity. In addition to his studies, Daan attends courses of the Beta and Life Science track of Honours college. Within the iGEM team, Daan kept minutes during the meetings.\n",
      "Jacob is a first-year member of the WLC-iGEM team. He spends his free time working with technology, figuring out the perfect cup of coffee, and playing various instruments. Jacob loves working with molecular science and is very excited to be a part of the iGEM team this year\n",
      "For the introduction of benchling for primer design and cloning, and for providing us with food, coffee and emotional support. Enoch Boasiako Antwi: For eternal weekend hours, for giving us a slot on the confocal, for the sharing his best primer design techniques and for the best theories and his great advice on our in vivo project.\n",
      "She can usually be found lurking near the baked goods and coffee at conferences trying to learn about the latest and greatest in Synbio. This is Kostas! Biotech is his life and he's doing everything to keep it so. Everything apart from the iGEM project. He can be found running between buildings and people to juggle 17 projects simultaneously ...\n"
     ]
    }
   ],
   "source": [
    "for result in results:\n",
    "    print(result[\"description\"])"
   ]
  },
  {
   "cell_type": "code",
   "execution_count": null,
   "metadata": {},
   "outputs": [],
   "source": []
  },
  {
   "cell_type": "code",
   "execution_count": null,
   "metadata": {},
   "outputs": [],
   "source": []
  },
  {
   "cell_type": "code",
   "execution_count": null,
   "metadata": {},
   "outputs": [],
   "source": []
  },
  {
   "cell_type": "code",
   "execution_count": 8,
   "metadata": {},
   "outputs": [
    {
     "data": {
      "text/plain": [
       "32"
      ]
     },
     "execution_count": 8,
     "metadata": {},
     "output_type": "execute_result"
    }
   ],
   "source": [
    "results = client.search(\"Coffee\")\n",
    "len(results)"
   ]
  },
  {
   "cell_type": "code",
   "execution_count": null,
   "metadata": {},
   "outputs": [],
   "source": []
  }
 ],
 "metadata": {
  "kernelspec": {
   "display_name": "Python 3",
   "language": "python",
   "name": "python3"
  },
  "language_info": {
   "codemirror_mode": {
    "name": "ipython",
    "version": 3
   },
   "file_extension": ".py",
   "mimetype": "text/x-python",
   "name": "python",
   "nbconvert_exporter": "python",
   "pygments_lexer": "ipython3",
   "version": "3.8.2"
  }
 },
 "nbformat": 4,
 "nbformat_minor": 4
}
